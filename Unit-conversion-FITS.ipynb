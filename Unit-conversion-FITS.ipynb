{
 "cells": [
  {
   "cell_type": "markdown",
   "id": "19104674",
   "metadata": {},
   "source": [
    "# From MJy/sr to erg s-1 cm-2 A-1\n",
    "\n",
    "This macro will take SKIRT's FITS output and convert it to another unit i.e. $erg$ $s^{-1}$ $cm^{-2}$ $\\mathring A^{-1}$"
   ]
  },
  {
   "cell_type": "code",
   "execution_count": 154,
   "id": "7d6e006d",
   "metadata": {},
   "outputs": [],
   "source": [
    "import matplotlib.pyplot as plt\n",
    "from astropy.io import fits\n",
    "from astropy.visualization import astropy_mpl_style\n",
    "plt.style.use(astropy_mpl_style)\n",
    "import numpy as np"
   ]
  },
  {
   "cell_type": "code",
   "execution_count": 132,
   "id": "0f7f64b6",
   "metadata": {},
   "outputs": [],
   "source": [
    "#Dfining some constants\n",
    "speed_of_ligth = 2.998e18 #Ang/s\n",
    "arcsec_to_rad = np.pi / 180 / 3600"
   ]
  },
  {
   "cell_type": "code",
   "execution_count": 133,
   "id": "1e3fc0a8",
   "metadata": {},
   "outputs": [],
   "source": [
    "#Loading file\n",
    "subhalo_path = '/Users/.../subhalos/' #my directory of SKIRT outputs\n",
    "subhalo_id = 509091 #from TNG50 at z=0\n",
    "instrument_name = 'model4_resolved_muse' #name given for the 3d cube output\n",
    "extension = '_total-copy.fits' #SKIRT's extension for a cube instrument\n",
    "\n",
    "path = subhalo_path + str(subhalo_id)+ '/' + instrument_name + extension"
   ]
  },
  {
   "cell_type": "code",
   "execution_count": 147,
   "id": "a0a1f613",
   "metadata": {},
   "outputs": [],
   "source": [
    "#Opening FITS file\n",
    "hdulist = fits.open(path,mode='update')\n",
    "prihdr = hdulist[0].header"
   ]
  },
  {
   "cell_type": "code",
   "execution_count": 148,
   "id": "785a0647",
   "metadata": {},
   "outputs": [
    {
     "name": "stdout",
     "output_type": "stream",
     "text": [
      "Filename: /Users/.../subhalos/509091/model4_resolved_muse_total-copy.fits\n",
      "No.    Name      Ver    Type      Cards   Dimensions   Format\n",
      "  0  PRIMARY       1 PrimaryHDU      25   (333, 323, 3681)   float32   \n",
      "  1  Z-axis coordinate values    1 TableHDU        13   3681R x 1C   [E16.9]   \n"
     ]
    }
   ],
   "source": [
    "hdulist.info()"
   ]
  },
  {
   "cell_type": "code",
   "execution_count": 149,
   "id": "24b7303d",
   "metadata": {},
   "outputs": [
    {
     "data": {
      "text/plain": [
       "SIMPLE  =                    T / file does conform to FITS standard             \n",
       "BITPIX  =                  -32 / number of bits per data pixel                  \n",
       "NAXIS   =                    3 / number of data axes                            \n",
       "NAXIS1  =                  333 / length of data axis 1                          \n",
       "NAXIS2  =                  323 / length of data axis 2                          \n",
       "NAXIS3  =                 3681 / length of data axis 3                          \n",
       "EXTEND  =                    T / FITS dataset may contain extensions            \n",
       "COMMENT   FITS (Flexible Image Transport System) format is defined in 'Astronomy\n",
       "COMMENT   and Astrophysics', volume 376, page 359; bibcode: 2001A&A...376..359H \n",
       "BSCALE  =                    1 / Array value scale                              \n",
       "BZERO   =                    0 / Array value offset                             \n",
       "DATE    = '2022-09-21T15:36:00' / Date and time of creation (UTC)               \n",
       "ORIGIN  = 'SKIRT simulation'   / Astronomical Observatory, Ghent University     \n",
       "BUNIT   = 'MJy/sr  '           / Physical unit of the array values              \n",
       "CRPIX1  =      1.670000000E+02 / X-axis coordinate system reference pixel       \n",
       "CRVAL1  =      0.000000000E+00 / Coordinate value at X-axis reference pixel     \n",
       "CDELT1  =      1.802494253E-01 / Coordinate increment along X-axis              \n",
       "CUNIT1  = 'arcsec  '           / Physical units of the X-axis                   \n",
       "CTYPE1  = '        '           / Linear X coordinates                           \n",
       "CRPIX2  =      1.620000000E+02 / Y-axis coordinate system reference pixel       \n",
       "CRVAL2  =      0.000000000E+00 / Coordinate value at Y-axis reference pixel     \n",
       "CDELT2  =      1.858299028E-01 / Coordinate increment along Y-axis              \n",
       "CUNIT2  = 'arcsec  '           / Physical units of the Y-axis                   \n",
       "CTYPE2  = '        '           / Linear Y coordinates                           \n",
       "CUNIT3  = 'micron  '           / Physical units of the Z-axis                   "
      ]
     },
     "execution_count": 149,
     "metadata": {},
     "output_type": "execute_result"
    }
   ],
   "source": [
    "prihdr"
   ]
  },
  {
   "cell_type": "code",
   "execution_count": 150,
   "id": "367ad318",
   "metadata": {},
   "outputs": [],
   "source": [
    "#Lets modify some keywords\n",
    "prihdr['BUNIT'] = ('erg s-1 cm-2 A-1','Physical unit of the array values')\n",
    "prihdr['history'] = 'I updated this file on 27/sept/22'\n",
    "prihdr['CUNIT3'] = ('angstrom','Physical units of the Z-axis')"
   ]
  },
  {
   "cell_type": "code",
   "execution_count": 151,
   "id": "9e36c0a1",
   "metadata": {},
   "outputs": [
    {
     "data": {
      "text/plain": [
       "SIMPLE  =                    T / file does conform to FITS standard             \n",
       "BITPIX  =                  -32 / number of bits per data pixel                  \n",
       "NAXIS   =                    3 / number of data axes                            \n",
       "NAXIS1  =                  333 / length of data axis 1                          \n",
       "NAXIS2  =                  323 / length of data axis 2                          \n",
       "NAXIS3  =                 3681 / length of data axis 3                          \n",
       "EXTEND  =                    T / FITS dataset may contain extensions            \n",
       "COMMENT   FITS (Flexible Image Transport System) format is defined in 'Astronomy\n",
       "COMMENT   and Astrophysics', volume 376, page 359; bibcode: 2001A&A...376..359H \n",
       "BSCALE  =                    1 / Array value scale                              \n",
       "BZERO   =                    0 / Array value offset                             \n",
       "DATE    = '2022-09-21T15:36:00' / Date and time of creation (UTC)               \n",
       "ORIGIN  = 'SKIRT simulation'   / Astronomical Observatory, Ghent University     \n",
       "BUNIT   = 'erg s-1 cm-2 A-1'   / Physical unit of the array values              \n",
       "CRPIX1  =      1.670000000E+02 / X-axis coordinate system reference pixel       \n",
       "CRVAL1  =      0.000000000E+00 / Coordinate value at X-axis reference pixel     \n",
       "CDELT1  =      1.802494253E-01 / Coordinate increment along X-axis              \n",
       "CUNIT1  = 'arcsec  '           / Physical units of the X-axis                   \n",
       "CTYPE1  = '        '           / Linear X coordinates                           \n",
       "CRPIX2  =      1.620000000E+02 / Y-axis coordinate system reference pixel       \n",
       "CRVAL2  =      0.000000000E+00 / Coordinate value at Y-axis reference pixel     \n",
       "CDELT2  =      1.858299028E-01 / Coordinate increment along Y-axis              \n",
       "CUNIT2  = 'arcsec  '           / Physical units of the Y-axis                   \n",
       "CTYPE2  = '        '           / Linear Y coordinates                           \n",
       "CUNIT3  = 'angstrom'           / Physical units of the Z-axis                   \n",
       "HISTORY I updated this file on 27/sept/22                                       "
      ]
     },
     "execution_count": 151,
     "metadata": {},
     "output_type": "execute_result"
    }
   ],
   "source": [
    "prihdr"
   ]
  },
  {
   "cell_type": "code",
   "execution_count": 139,
   "id": "2702888c",
   "metadata": {},
   "outputs": [],
   "source": [
    "#Saving some variables\n",
    "pix_size_x = hdulist[0].header['CDELT1']\n",
    "pix_size_y = hdulist[0].header['CDELT2']\n",
    "x = hdulist[0].data.shape[2] #x dimension\n",
    "y = hdulist[0].data.shape[1] #y dimension\n",
    "z = hdulist[0].data.shape[0] #number of channels (wavelengths in microns)\n",
    "\n",
    "#arcsec to radians \n",
    "radx = pix_size_x * arcsec_to_rad\n",
    "rady = pix_size_y * arcsec_to_rad"
   ]
  },
  {
   "cell_type": "code",
   "execution_count": 140,
   "id": "c06d6f43",
   "metadata": {},
   "outputs": [],
   "source": [
    "#Getting all wavelengths (channels) and converting them from um to ang\n",
    "scidata = hdulist[1].data\n",
    "scidata_float = scidata.astype(float)\n",
    "wave = scidata_float*1e4 #in Angstroms"
   ]
  },
  {
   "cell_type": "code",
   "execution_count": 141,
   "id": "a69dbf93",
   "metadata": {},
   "outputs": [
    {
     "name": "stdout",
     "output_type": "stream",
     "text": [
      "2022-09-27 15:41:52.397878\n",
      "Execution time: 0:00:06.620104\n"
     ]
    }
   ],
   "source": [
    "from datetime import datetime\n",
    "startTime = datetime.now()\n",
    "print (startTime)\n",
    "\n",
    "#Converting from MJy/sr to erg s-1 cm-2 A-1\n",
    "conv_1 = 10e-23 * 10e6 * speed_of_ligth * radx * rady\n",
    "for _z in range (z):\n",
    "    hdulist[0].data[_z] = hdulist[0].data[_z] * conv_1 / ((wave[_z])**2)\n",
    "\n",
    "print('Execution time:', datetime.now() - startTime)\n"
   ]
  },
  {
   "cell_type": "code",
   "execution_count": 152,
   "id": "93048332",
   "metadata": {},
   "outputs": [],
   "source": [
    "hdulist.flush() # changes are written back to path"
   ]
  },
  {
   "cell_type": "code",
   "execution_count": 153,
   "id": "c31866e2",
   "metadata": {},
   "outputs": [],
   "source": [
    "hdulist.close()"
   ]
  },
  {
   "cell_type": "code",
   "execution_count": null,
   "id": "4a33d1c0",
   "metadata": {},
   "outputs": [],
   "source": []
  }
 ],
 "metadata": {
  "kernelspec": {
   "display_name": "Python 3 (ipykernel)",
   "language": "python",
   "name": "python3"
  },
  "language_info": {
   "codemirror_mode": {
    "name": "ipython",
    "version": 3
   },
   "file_extension": ".py",
   "mimetype": "text/x-python",
   "name": "python",
   "nbconvert_exporter": "python",
   "pygments_lexer": "ipython3",
   "version": "3.9.12"
  }
 },
 "nbformat": 4,
 "nbformat_minor": 5
}
